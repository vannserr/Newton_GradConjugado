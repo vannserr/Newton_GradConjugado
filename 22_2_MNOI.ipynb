{
  "nbformat": 4,
  "nbformat_minor": 0,
  "metadata": {
    "colab": {
      "provenance": []
    },
    "kernelspec": {
      "name": "python3",
      "display_name": "Python 3"
    },
    "language_info": {
      "name": "python"
    }
  },
  "cells": [
    {
      "cell_type": "code",
      "execution_count": null,
      "metadata": {
        "id": "ZIZj78yU_afP"
      },
      "outputs": [],
      "source": [
        "import numpy as np\n",
        "import sys\n",
        "import matplotlib.pyplot as plt\n",
        "from scipy.optimize import minimize, newton"
      ]
    },
    {
      "cell_type": "code",
      "source": [
        "def funcao_objetivo(xk): \n",
        "\n",
        "    f = (xk[0]**4 - 16*xk[0]**2 + 5*xk[0]) + (xk[1]**4 - 16*xk[1]**2 + 5*xk[1]) + (xk[2]**4 - 16*xk[2]**2 + 5*xk[2]) + (xk[3]**4 - 16*xk[3]**2 + 5*xk[3])\n",
        "    #(w^4 - 16*w^2 + 5*w) + (x^4 - 16*x^2 + 5*x) + (y^4 - 16*y^2 + 5*y) + (z^4 - 16*z^2 + 5*z)\n",
        "\n",
        "    return f"
      ],
      "metadata": {
        "id": "0Muxs2Dd_rCl"
      },
      "execution_count": null,
      "outputs": []
    },
    {
      "cell_type": "code",
      "source": [
        "def gradiente(xk):\n",
        " \n",
        "    gk = np.array( [ (4*xk[0]**3 - 32*xk[0]+ 5),\n",
        "                    (4*xk[1]**3 - 32*xk[1] + 5),\n",
        "                    (4*xk[2]**3 - 32*xk[2] + 5),\n",
        "                    4*xk[3]**3 - 32*xk[3] + 5   ] )\n",
        "         \n",
        "    return gk"
      ],
      "metadata": {
        "id": "Xzj0GSEQ7aBr"
      },
      "execution_count": null,
      "outputs": []
    },
    {
      "cell_type": "code",
      "source": [
        "def hessiana(xk):\n",
        "\n",
        "  h = np.array([\n",
        "        [ 12*xk[0]**2 - 64,  0,   0,   0  ],   \n",
        "        [   0   ,  12*xk[1]**2,   0 ,  0  ],\n",
        "        [   0   ,  0  ,  12*xk[2]**2 , 0  ],\n",
        "        [   0   ,  0  ,  0 ,  12*xk[3]**2 ]])\n",
        "  \n",
        " return h"
      ],
      "metadata": {
        "id": "jnz0Cngd7IdL"
      },
      "execution_count": null,
      "outputs": []
    },
    {
      "cell_type": "code",
      "source": [
        "def armijo(xk, sk):\n",
        " \n",
        "    alpha = 1 #Cambio 2, despues de alterar el x0 mexer en alfa\n",
        "    a = 0.0\n",
        "    b = -sys.maxsize\n",
        "    c_1 = 0.0001\n",
        "    c_2 = 0.9\n",
        "    k = 0\n",
        "    while k < 100: #cambio 4 de 100 para 10\n",
        "        k += 1\n",
        "        #xk = np.ones((3,3), dtype=float)#TypeError: Cannot cast ufunc add output from dtype('float64') to dtype('int64') with casting rule 'same_kind'\n",
        "        if funcao_objetivo(xk) - funcao_objetivo(xk + alpha * sk) >= -c_1 * alpha * np.dot(gradiente(xk), sk):\n",
        "         \n",
        "            if np.dot(gradiente(xk + alpha * sk), sk) >= c_2 * np.dot(gradiente(xk), sk):\n",
        "             \n",
        "                return alpha\n",
        "            else:\n",
        "                a = alpha\n",
        "                alpha = min(2 * alpha, (alpha + b) / 2)\n",
        " \n",
        "        else:\n",
        "            b = alpha\n",
        "            alpha = 0.5 * (alpha + a)\n",
        "    return alpha"
      ],
      "metadata": {
        "id": "fiJy-aIzAK30"
      },
      "execution_count": null,
      "outputs": []
    },
    {
      "cell_type": "code",
      "source": [
        "from numpy.core.fromnumeric import size\n",
        "if __name__ == '__main__':\n",
        "    eps = 1e-5\n",
        "    x0 = np.array([5,5,5,5])#([1,1,1,1])#([-1,-1,-1,-1])#([-2.5,-2.5,-2.5,-2.5])\n",
        " \n",
        "         # Algoritmo de gradiente \n",
        "    \n",
        "    gk = gradiente(x0)\n",
        "    sigma = np.linalg.norm(gk)\n",
        "    step = 0\n",
        "    xk = x0\n",
        "    w = np.zeros ((4, 50)) # Guarde la iteración y establezca la variable xk\n",
        "    sk = -1 * gk\n",
        "    while sigma > eps and step < 50: # Cambio 4 a 20 iter\n",
        "        alpha = armijo(xk, sk)\n",
        "        w[:, step] = np.transpose(xk)\n",
        " \n",
        "        step += 1\n",
        "        #xk = np.ones((3,3), dtype=float)#TypeError: Cannot cast ufunc add output from dtype('float64') to dtype('int64') with casting rule 'same_kind'\n",
        "        #xk += alpha * sk\n",
        "        xk = xk + alpha * sk\n",
        " \n",
        "        gk = gradiente(xk)\n",
        "        sk = -1 * gk\n",
        " \n",
        "        sigma = np.linalg.norm(gk)\n",
        "        #print(gk,sigma)\n",
        "        print('--A {}-ésima iter, resultado é {}, o alfa é {}, função objetivo {:.4f}'.format(step, np.array(xk), alpha, funcao_objetivo(xk)))\n",
        "        \n",
        "        #plt.plot (step, object_function(xk))\n",
        " "
      ],
      "metadata": {
        "id": "J-5Ck7HKTiBa"
      },
      "execution_count": null,
      "outputs": []
    },
    {
      "cell_type": "code",
      "source": [
        "from numpy.core.fromnumeric import size\n",
        "if __name__ == '__main__':\n",
        "    eps = 1e-5\n",
        "    x0 = np.array([0,0,0,0])#([1,1,1,1])#([5,5,5,5])#([-2,-2,-2,-2])##([-1,-1,-1,-1])#\n",
        " \n",
        "         # Algoritmo de gradiente conjugado\n",
        "    \n",
        "    xk = x0\n",
        "    gk = gradiente(xk)\n",
        "    sigma = np.linalg.norm(gk)\n",
        "    sk = -gk\n",
        "    step = 0\n",
        "    w = np.zeros ((4,1000)) # Guarde la iteración y establezca la variable xk\n",
        " \n",
        "    while sigma > eps and step < 1000:\n",
        "        w[:, step] = np.transpose(xk)\n",
        " \n",
        "        step += 1\n",
        "        alpha = armijo(xk, sk)\n",
        "        xk = xk + alpha * sk\n",
        "        g0 = gk\n",
        "        gk = gradiente(xk)\n",
        "        beta = (np.linalg.norm(gk) / np.linalg.norm(g0))**2\n",
        "        sk = -1 * gk + beta * sk\n",
        "        sigma = np.linalg.norm(gk)\n",
        "        print('--A {}-ésima iter, resultado é {}, alfa é {}, função objetivo {:.4f}'.format(step, np.array(xk), alpha, funcao_objetivo(xk)))\n",
        "    \n",
        " "
      ],
      "metadata": {
        "id": "CV23k9XbKgMD"
      },
      "execution_count": null,
      "outputs": []
    },
    {
      "cell_type": "code",
      "source": [
        "from numpy.core.fromnumeric import size\n",
        "if __name__ == '__main__':\n",
        "    eps = 1e-5\n",
        "    x0 = np.array([-5,-5,-5,-5])#([-1,-1,-1,-1])#([0.1,0.1,0.1,0.1])#([0,0,0,0])###([-3,-3,-3,-3])#([0.0, 0.0])#\n",
        "          \n",
        "         # Método de iteración de Newton\n",
        "    #W = newton(x0,eps)\n",
        "    step = 0\n",
        "    xk = x0\n",
        "    gk = gradiente(xk)\n",
        "    hess = hessiana(xk)\n",
        "    sigma = np.linalg.norm(gk)\n",
        "    sk = -1 * np.dot(np.linalg.inv(hess), gk)\n",
        "    w = np.zeros ((4, 2000)) # Guarde la iteración y establezca la variable xk\n",
        " \n",
        "    while sigma > eps and step < 20:\n",
        "                 # método newton en alfa = 1\n",
        "        w[:, step] = np.transpose(xk)\n",
        " \n",
        "        step += 1\n",
        "        xk = xk + sk\n",
        "        gk = gradiente(xk)\n",
        "        hess = hessiana(xk)\n",
        "        sigma = np.linalg.norm(gk)\n",
        "        sk = -1 * np.dot(np.linalg.inv(hess), gk)\n",
        "        print('--A {}-ésima iter, resultado é {}, função objetivo {:.4f}'.format(step, np.array(xk), funcao_objetivo(xk)))\n",
        "         \n",
        " \n",
        " \n"
      ],
      "metadata": {
        "id": "XNu1lXvPKmQz"
      },
      "execution_count": null,
      "outputs": []
    },
    {
      "cell_type": "code",
      "source": [],
      "metadata": {
        "id": "jOt-Or42PHOj"
      },
      "execution_count": null,
      "outputs": []
    }
  ]
}